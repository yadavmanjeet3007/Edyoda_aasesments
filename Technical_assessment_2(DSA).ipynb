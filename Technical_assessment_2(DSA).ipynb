{
 "cells": [
  {
   "cell_type": "markdown",
   "id": "e48c9f85",
   "metadata": {},
   "source": [
    "Given a string str, your task is to write a program which takes a string str as its only input and returns an integer denoting the no of palindromic subsequence (need not necessarily be distinct) which could be formed from the string str."
   ]
  },
  {
   "cell_type": "code",
   "execution_count": 60,
   "id": "da4c77b8",
   "metadata": {},
   "outputs": [
    {
     "name": "stdout",
     "output_type": "stream",
     "text": [
      "Give some input :aserdfttugjkomr\n",
      "a --> 1\n",
      "s --> 2\n",
      "e --> 3\n",
      "r --> 4\n",
      "d --> 5\n",
      "f --> 6\n",
      "t --> 7\n",
      "t --> 8\n",
      "u --> 9\n",
      "g --> 10\n",
      "j --> 11\n",
      "k --> 12\n",
      "o --> 13\n",
      "m --> 14\n",
      "r --> 15\n",
      "No. of palindromic sequence  15\n"
     ]
    }
   ],
   "source": [
    "string = input('Give some input :')\n",
    "no_of_letters=0\n",
    "for x in range(len(string)):\n",
    "    no_of_letters+=1\n",
    "    print(f'{string[x]} --> {no_of_letters}')\n",
    "    \n",
    "print('No. of palindromic sequence ',no_of_letters)\n",
    "\n",
    "\n",
    "    "
   ]
  },
  {
   "cell_type": "code",
   "execution_count": null,
   "id": "f9218c4c",
   "metadata": {},
   "outputs": [],
   "source": []
  }
 ],
 "metadata": {
  "kernelspec": {
   "display_name": "Python 3",
   "language": "python",
   "name": "python3"
  },
  "language_info": {
   "codemirror_mode": {
    "name": "ipython",
    "version": 3
   },
   "file_extension": ".py",
   "mimetype": "text/x-python",
   "name": "python",
   "nbconvert_exporter": "python",
   "pygments_lexer": "ipython3",
   "version": "3.8.8"
  }
 },
 "nbformat": 4,
 "nbformat_minor": 5
}
