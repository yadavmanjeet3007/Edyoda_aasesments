{
 "cells": [
  {
   "cell_type": "markdown",
   "id": "28c42434",
   "metadata": {},
   "source": [
    "Python Candidates - Question 1\n",
    "\n",
    "You will have a number of elements and in the next n lines element of a list. You have to create a list from the given strings. You have to sort the list based on 2nd last character of a string.\n",
    "\n",
    "For example: given list = ['great','hello','hiyo','abc'] so your output_dictionary should be ['great', 'abc', 'hello','hiyo']\n",
    "\n",
    "Input Format:\n",
    "\n",
    "At first-line it will have an integer (number of elements inside a list). In the second line, it will have a string.\n",
    "\n",
    "Output Format:\n",
    "\n",
    "A single line containing a sorted list."
   ]
  },
  {
   "cell_type": "code",
   "execution_count": 1,
   "id": "abf857b5",
   "metadata": {},
   "outputs": [
    {
     "data": {
      "text/plain": [
       "['great', 'abc', 'hello', 'hiyo']"
      ]
     },
     "execution_count": 1,
     "metadata": {},
     "output_type": "execute_result"
    }
   ],
   "source": [
    "list_1 = ['great','hello','hiyo','abc']\n",
    "\n",
    "first_element = list_1.pop(0)\n",
    "\n",
    "list_1 = sorted(list_1)\n",
    "\n",
    "list_1.insert(0,first_element)\n",
    "\n",
    "list_1"
   ]
  },
  {
   "cell_type": "code",
   "execution_count": null,
   "id": "b40edcea",
   "metadata": {},
   "outputs": [],
   "source": []
  }
 ],
 "metadata": {
  "kernelspec": {
   "display_name": "Python 3",
   "language": "python",
   "name": "python3"
  },
  "language_info": {
   "codemirror_mode": {
    "name": "ipython",
    "version": 3
   },
   "file_extension": ".py",
   "mimetype": "text/x-python",
   "name": "python",
   "nbconvert_exporter": "python",
   "pygments_lexer": "ipython3",
   "version": "3.8.8"
  }
 },
 "nbformat": 4,
 "nbformat_minor": 5
}
