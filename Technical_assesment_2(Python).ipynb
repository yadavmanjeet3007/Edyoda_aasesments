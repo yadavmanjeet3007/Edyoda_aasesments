{
 "cells": [
  {
   "cell_type": "markdown",
   "id": "0f7a503a",
   "metadata": {},
   "source": [
    "Your task is to complete the validate_triangle and validate_rectangle functions for the classes.Hint for validating is given in the\n",
    "\n",
    "comments of the code. Also you will have to print the following after validation in respective functions:-\n",
    "\n",
    "1.Invalid Triangle: If the triangle sum property of sides is not valid(More hint in the comments of code)\n",
    "\n",
    "2.Valid Triangle:If the triangle sum property of sides is valid.\n",
    "\n",
    "3.Valid Rectangle:If 2 side pairs are same and they are input in correct order like l,b,l,b\n",
    "\n",
    "4.Invalid Rectangle: If Not Valid rectangle as stated above"
   ]
  },
  {
   "cell_type": "code",
   "execution_count": 1,
   "id": "0e611231",
   "metadata": {},
   "outputs": [],
   "source": [
    "class Shapes:\n",
    "    def is_valid_triangle(self,a,b,c):\n",
    "        if a+b>c and b+c>a and c+a>b:\n",
    "            print('Valid Triangle')\n",
    "        else:\n",
    "            print('Invalid Triangle')  \n",
    "    def is_valid_rectangle(self,a,b,c,d):\n",
    "        if a == c and b == d:\n",
    "            print('Valid Rectangle')\n",
    "        else:\n",
    "            print('Invalid Rectangle')"
   ]
  },
  {
   "cell_type": "code",
   "execution_count": 2,
   "id": "16adfa47",
   "metadata": {},
   "outputs": [],
   "source": [
    "valid_shape = Shapes()"
   ]
  },
  {
   "cell_type": "code",
   "execution_count": 5,
   "id": "27dc49a8",
   "metadata": {},
   "outputs": [
    {
     "name": "stdout",
     "output_type": "stream",
     "text": [
      "Invalid Triangle\n",
      "Valid Rectangle\n"
     ]
    }
   ],
   "source": [
    "valid_shape.is_valid_triangle(2,5,2)\n",
    "valid_shape.is_valid_rectangle(5,6,5,6)"
   ]
  }
 ],
 "metadata": {
  "kernelspec": {
   "display_name": "Python 3",
   "language": "python",
   "name": "python3"
  },
  "language_info": {
   "codemirror_mode": {
    "name": "ipython",
    "version": 3
   },
   "file_extension": ".py",
   "mimetype": "text/x-python",
   "name": "python",
   "nbconvert_exporter": "python",
   "pygments_lexer": "ipython3",
   "version": "3.8.8"
  }
 },
 "nbformat": 4,
 "nbformat_minor": 5
}
